{
 "cells": [
  {
   "cell_type": "markdown",
   "metadata": {},
   "source": [
    "# **Behavioral Cloning** "
   ]
  },
  {
   "cell_type": "code",
   "execution_count": 2,
   "metadata": {
    "collapsed": true
   },
   "outputs": [],
   "source": [
    "import csv\n",
    "import cv2\n",
    "import numpy as np\n",
    "from keras.layers.advanced_activations import ELU\n",
    "from keras.optimizers import Adam\n",
    "from keras.models import Sequential\n",
    "from keras.layers import Flatten, Dense, Lambda, Cropping2D, Dropout, Conv2D, ZeroPadding2D\n",
    "from keras.layers.convolutional import Convolution2D\n",
    "from keras.layers.pooling import MaxPooling2D\n",
    "from sklearn.model_selection import train_test_split\n",
    "from sklearn.utils import shuffle\n",
    "import matplotlib.pyplot as plt\n",
    "from keras.regularizers import l2\n",
    "%matplotlib inline  "
   ]
  },
  {
   "cell_type": "code",
   "execution_count": 3,
   "metadata": {
    "collapsed": true
   },
   "outputs": [],
   "source": [
    "def plot_loss_graph(history_object):\n",
    "\tplt.plot(history_object.history['loss'])\n",
    "\tplt.plot(history_object.history['val_loss'])\n",
    "\tplt.title('model mean squared error loss')\n",
    "\tplt.ylabel('mean squared error loss')\n",
    "\tplt.xlabel('epoch')\n",
    "\tplt.legend(['training set', 'validation set'], loc='upper right')\n",
    "\tplt.show()"
   ]
  },
  {
   "cell_type": "markdown",
   "metadata": {},
   "source": [
    "## NVIDIA Model architecture\n",
    "- Dropout were used to avoide overfitting\n",
    "\n",
    "| Layer         \t\t|     Description\t        \t\t\t\t\t|\n",
    "|:---------------------:|:---------------------------------------------:|\n",
    "| Input         \t\t| 66x200x3 image   \t\t\t\t\t\t\t    | \n",
    "| Convolution 5x5     \t| 2x2 stride, 24 filters                       \t|\n",
    "| ELU\t\t\t\t\t|\t\t\t\t\t\t\t\t\t\t\t\t|\n",
    "| Dropout\t\t\t\t| 50 % keep probability \t\t\t\t\t\t|\n",
    "| Convolution 5x5      \t| 2x2 stride, 36 filters                       \t|\n",
    "| ELU           \t    |                                               |\n",
    "| Dropout\t\t\t\t| 50 % keep probability \t\t\t\t\t\t|\n",
    "| Convolution 5x5 \t\t| 2x2 stride, 48 filters\t\t\t\t\t\t|\n",
    "| ELU                 \t|                                \t\t\t    |\n",
    "| Dropout\t\t\t\t| 50 % keep probability \t\t\t\t\t\t|\n",
    "| Convolution 3x3 \t\t| 2x2 stride, 64 filters\t\t\t\t\t\t|\n",
    "| ELU                 \t|                                \t\t\t    |\n",
    "| Dropout\t\t\t\t| 50 % keep probability \t\t\t\t\t\t|\n",
    "| Convolution 3x3 \t\t| 2x2 stride, 64 filters\t\t\t\t\t\t|\n",
    "| ELU                 \t|                                \t\t\t    |\n",
    "| Dropout\t\t\t\t| 50 % keep probability \t\t\t\t\t\t|\n",
    "| Flatten            \t|                                \t\t\t    |\n",
    "| Fully connected\t\t| 100 nodes                      \t\t\t\t|\n",
    "| ELU                 \t|                                \t\t\t    |\n",
    "| Dropout\t\t\t\t| 50 % keep probability \t\t\t\t\t\t|\n",
    "| Fully connected\t\t| 50 nodes                      \t\t\t\t|\n",
    "| ELU                 \t|                                \t\t\t    |\n",
    "| Dropout\t\t\t\t| 50 % keep probability \t\t\t\t\t\t|\n",
    "| Fully connected\t\t| 10 nodes                      \t\t\t\t|\n",
    "| ELU                 \t|                                \t\t\t    |\n",
    "| Fully connected\t\t| 1 node                         \t\t\t\t|\n",
    "\n",
    "\n",
    "[image01]: ./writeup_images/NVIDIA_MODEL.PNG \"NVIDIA\"\n",
    "\n",
    "![NVIDIA MODEL][image01]\n",
    "\n",
    "\n",
    "You can refer the paper published by NIVIDIA :  [End to End Learning for Self-Driving Cars\n",
    "](https://arxiv.org/pdf/1604.07316v1.pdf) \n",
    "\n",
    "\n"
   ]
  },
  {
   "cell_type": "code",
   "execution_count": 4,
   "metadata": {
    "collapsed": true
   },
   "outputs": [],
   "source": [
    "def my_model(train_generator, validation_generator, no_train_data, no_of_validation_data):\n",
    "\tmodel = Sequential()\n",
    "\t\n",
    "\tmodel.add(Lambda(lambda x: x / 127.5 - 1.0, input_shape=(66, 200, 3)))\n",
    "\t\n",
    "\tmodel.add(Conv2D(24, 5, 5, activation='elu', subsample=(2, 2)))\n",
    "\tmodel.add(Dropout(0.5))\n",
    "\t\n",
    "\tmodel.add(Conv2D(36, 5, 5, activation='elu', subsample=(2, 2)))\n",
    "\tmodel.add(Dropout(0.5))\n",
    "\t\n",
    "\tmodel.add(Conv2D(48, 5, 5, activation='elu', subsample=(2, 2)))\n",
    "\tmodel.add(Dropout(0.5))\n",
    "\t\n",
    "\tmodel.add(Conv2D(64, 3, 3, activation='elu'))\n",
    "\tmodel.add(Dropout(0.5))\n",
    "\t\n",
    "\tmodel.add(Conv2D(64, 3, 3, activation='elu'))\n",
    "\tmodel.add(Dropout(0.5))\n",
    "\t\n",
    "\tmodel.add(Flatten())\n",
    "\t\n",
    "\tmodel.add(Dense(100, activation='elu'))\n",
    "\tmodel.add(Dropout(0.5))\n",
    "\t\n",
    "\tmodel.add(Dense(50, activation='elu'))\n",
    "\tmodel.add(Dropout(0.5))\n",
    "\t\n",
    "\tmodel.add(Dense(10, activation='elu'))\n",
    "\t\n",
    "\tmodel.add(Dense(1))\n",
    "\t\n",
    "\tmodel.compile(loss=\"mse\", optimizer=\"adam\")\n",
    "\t\n",
    "\thistory_object = model.fit_generator(train_generator,\n",
    "\t\t\t\t\t\t\t\t\t\t samples_per_epoch=no_train_data,\n",
    "\t\t\t\t\t\t\t\t\t\t validation_data=validation_generator,\n",
    "\t\t\t\t\t\t\t\t\t\t nb_val_samples=no_of_validation_data,\n",
    "\t\t\t\t\t\t\t\t\t\t nb_epoch=3,\n",
    "\t\t\t\t\t\t\t\t\t\t verbose=1)\n",
    "\t\n",
    "\t# plot_loss_graph(history_object)\n",
    "\t\n",
    "\tmodel.save(\"more_data.h5\")\n",
    "    \n",
    "\t\t### print the keys contained in the history object\n",
    "\tprint(history_object.history.keys())\n",
    "\n",
    "\t### plot the training and validation loss for each epoch\n",
    "\tplt.plot(history_object.history['loss'])\n",
    "\tplt.plot(history_object.history['val_loss'])\n",
    "\tplt.title('model mean squared error loss')\n",
    "\tplt.ylabel('mean squared error loss')\n",
    "\tplt.xlabel('epoch')\n",
    "\tplt.legend(['training set', 'validation set'], loc='upper right')\n",
    "\tplt.show()"
   ]
  },
  {
   "cell_type": "markdown",
   "metadata": {},
   "source": [
    "## Data Augmentation\n",
    "\n",
    "- I flipped the images horizontally\n",
    "- The angles of the flipped images were multiplied by -1.0\n",
    "- This helped in increasing the amount of data \n",
    "- It also helps in model to generalize on the training track \n",
    "- This Project made one thing clear that if you have data than only your model can shine and achieve the goal\n",
    "\n"
   ]
  },
  {
   "cell_type": "code",
   "execution_count": 6,
   "metadata": {
    "collapsed": true
   },
   "outputs": [],
   "source": [
    "def perform_data_augmentation(images, measurements):\n",
    "\taugmented_images = []\n",
    "\taugmented_measurements = []\n",
    "\t\n",
    "\tfor image, measurement in zip(images, measurements):\n",
    "\t\taugmented_images.append(image)\n",
    "\t\taugmented_measurements.append(measurement)\n",
    "\t\taugmented_images.append(cv2.flip(image, 1))\n",
    "\t\taugmented_measurements.append(measurement * -1.0)\n",
    "\t\t\n",
    "\treturn np.array(augmented_images), np.array(augmented_measurements)"
   ]
  },
  {
   "cell_type": "markdown",
   "metadata": {},
   "source": [
    "## Pre-Processing\n",
    "\n",
    "- Cropped the Image appropriately \n",
    "- Applied Gaussian filter with filter size of 3*3\n",
    "- Converted the Image from BGR to YUV space"
   ]
  },
  {
   "cell_type": "code",
   "execution_count": 7,
   "metadata": {
    "collapsed": true
   },
   "outputs": [],
   "source": [
    "def pre_process_image(img):\n",
    "\t\"\"\"\n",
    "    Method for preprocessing images: this method is the same used in drive.py, except this version uses\n",
    "    BGR to YUV and drive.py uses RGB to YUV (due to using cv2 to read the image here, where drive.py images are\n",
    "    received in RGB)\n",
    "    \"\"\"\n",
    "\t# original shape: 160x320x3, input shape for neural net: 66x200x3\n",
    "\tnew_img = img[50:140, :, :]\n",
    "\t# apply subtle blur\n",
    "\tnew_img = cv2.GaussianBlur(new_img, (3, 3), 0)\n",
    "\tnew_img = cv2.resize(new_img, (200, 66), interpolation = cv2.INTER_AREA)  # scale to 66x200x3 (same as NVIDIA)\n",
    "\tnew_img = cv2.cvtColor(new_img, cv2.COLOR_BGR2YUV)\n",
    "\treturn new_img"
   ]
  },
  {
   "cell_type": "code",
   "execution_count": 8,
   "metadata": {
    "collapsed": false
   },
   "outputs": [],
   "source": [
    "def random_distort(img, angle):\n",
    "\t\"\"\"\n",
    "    method for adding random distortion to dataset images, including random brightness adjust, and a random\n",
    "    vertical shift of the horizon position \"\"\"\n",
    "\tnew_img = img.astype(float)\n",
    "\t# random brightness - the mask bit keeps values from going beyond (0,255)\n",
    "\tvalue = np.random.randint(-28, 28)\n",
    "\tif value > 0:\n",
    "\t\tmask = (new_img[:, :, 0] + value) > 255\n",
    "\tif value <= 0:\n",
    "\t\tmask = (new_img[:, :, 0] + value) < 0\n",
    "\tnew_img[:, :, 0] += np.where(mask, 0, value)\n",
    "\t# random shadow - full height, random left/right side, random darkening\n",
    "\th, w = new_img.shape[0:2]\n",
    "\tmid = np.random.randint(0, w)\n",
    "\tfactor = np.random.uniform(0.6, 0.8)\n",
    "\tif np.random.rand() > .5:\n",
    "\t\tnew_img[:, 0:mid, 0] *= factor\n",
    "\telse:\n",
    "\t\tnew_img[:, mid:w, 0] *= factor\n",
    "\t# randomly shift horizon\n",
    "\th, w, _ = new_img.shape\n",
    "\thorizon = 2*h/5\n",
    "\tv_shift = np.random.randint(-h/8, h/8)\n",
    "\tpts1 = np.float32([[0, horizon], [w, horizon], [0, h], [w, h]])\n",
    "\tpts2 = np.float32([[0, horizon+v_shift], [w, horizon+v_shift], [0, h], [w, h]])\n",
    "\tM = cv2.getPerspectiveTransform(pts1, pts2)\n",
    "\tnew_img = cv2.warpPerspective(new_img, M, (w, h), borderMode=cv2.BORDER_REPLICATE)\n",
    "\treturn new_img.astype(np.uint8), angle"
   ]
  },
  {
   "cell_type": "markdown",
   "metadata": {},
   "source": [
    "## Correction Factor\n",
    "\n",
    "- Corection factor used in the below cell is 0.2\n",
    "- It is a parameter to tune\n",
    "- For right camera images and left camera images the angel measurement is of center camera image which is wrong\n",
    "- Corection factor helps us use the right camera images and left camers images effectively\n",
    "- Correction factor makes the angel measurement to stir right by 0.2 for left images so that we can effectively use left images\n",
    "- Correction factor makes the angel measurement to stir left by 0.2 for right images so that we can effectively use right images"
   ]
  },
  {
   "cell_type": "code",
   "execution_count": 9,
   "metadata": {
    "collapsed": true
   },
   "outputs": [],
   "source": [
    "def get_measurement(sample, i):\n",
    "\tcorrection_factor = 0.2\n",
    "\t# print(sample[3])\n",
    "\tif i == 0:\n",
    "\t\treturn float(sample[3])\n",
    "\telif i == 1:\n",
    "\t\treturn float(sample[3]) + correction_factor\n",
    "\telif i == 2:\n",
    "\t\treturn float(sample[3]) - correction_factor\n",
    "\t\n",
    "\treturn None"
   ]
  },
  {
   "cell_type": "markdown",
   "metadata": {},
   "source": [
    "## Loading Data\n",
    "\n",
    "- We have driving_log.csv\n",
    "- The csv has path to Left Image, Right Image, and Center Image and has angel measurement\n",
    "- We use csv's paths to read the images\n"
   ]
  },
  {
   "cell_type": "code",
   "execution_count": 10,
   "metadata": {
    "collapsed": true
   },
   "outputs": [],
   "source": [
    "def read_data(files):\n",
    "\tsamples = []\n",
    "\tangles = []\n",
    "\timage_paths = []\n",
    "\tfor file in files:\n",
    "\t\twith open(file) as csvfile:\n",
    "\t\t\treader = csv.reader(csvfile)\n",
    "\t\t\ti = 0\n",
    "\t\t\tfor line in reader:\n",
    "\t\t\t\tif i == 0:\n",
    "\t\t\t\t\ti += 1\n",
    "\t\t\t\t\tcontinue\n",
    "\t\t\t\tline.append(file.split(\"/\")[0])\n",
    "\t\t\t\t\n",
    "\t\t\t\tfor i in range(0, 3):\n",
    "\t\t\t\t\tangle = get_measurement(line, i)\n",
    "\t\t\t\t\tangles.append(angle)\n",
    "\t\t\t\t\tsamples.append(file.split(\"/\")[0])\n",
    "\t\t\t\t\t\n",
    "\t\t\t\t\tif line[-1] == \"data\":\n",
    "\t\t\t\t\t\tsplit_values = line[i].split(\"/\")\n",
    "\t\t\t\t\t\tsource_path = line[-1] + \"/\" + \"IMG\" + \"/\" + split_values[-1]\n",
    "\t\t\t\t\t\t# print(source_path)\n",
    "\n",
    "\t\t\t\t\telif line[-1] == \"data_1\" or line[-1] == \"data_2\" or line[-1] == \"data_3\":\n",
    "\t\t\t\t\t\tsplit_values = line[i].split(\"\\\\\")\n",
    "\t\t\t\t\t\tsource_path = line[-1] + \"/\" + split_values[-2] + \"/\" + split_values[-1]\n",
    "\t\t\t\t\t\t\n",
    "\t\t\t\t\timage_paths.append(source_path)\n",
    "\t\n",
    "\treturn samples, angles, image_paths"
   ]
  },
  {
   "cell_type": "code",
   "execution_count": 12,
   "metadata": {
    "collapsed": true
   },
   "outputs": [],
   "source": [
    "def data_visualization(angles):\n",
    "\tnum_bins = 23\n",
    "\tavg_samples_per_bin = len(angles) / num_bins\n",
    "\thist, bins = np.histogram(angles, num_bins)\n",
    "\twidth = 0.7 * (bins[1] - bins[0])\n",
    "\tcenter = (bins[:-1] + bins[1:]) / 2\n",
    "\tplt.bar(center, hist, align='center', width=width)\n",
    "\tplt.plot((np.min(angles), np.max(angles)), (avg_samples_per_bin, avg_samples_per_bin), 'k-')\n",
    "\tplt.show()"
   ]
  },
  {
   "cell_type": "markdown",
   "metadata": {},
   "source": [
    "## Flatten the Distribution\n",
    "\n",
    "- This was a game changer for me \n",
    "- Somehow my model even after collecting the data was not performing good\n",
    "- The model did drive with in the track but when ever there was a turn, it did not change the stirring angle\n",
    "- I saw the csv file and found that most of the stirring angel data is 0 degree\n",
    "- This is because the training trach does not have much sharp turns\n",
    "- Because of this somehow I felt that the training is biased\n",
    "- We have told the network for most of the data to keep strring angel to 0\n",
    "- Because of this I think my model was more inclined to go straight even when there was a turn \n",
    "- I started for looking for solutions online\n",
    "- My approach and code for the below cell is heavily inspired by https://github.com/jeremy-shannon/CarND-Behavioral-Cloning-Project\n",
    "- I decided to throw away some of the data looking at above link's solution\n",
    "- Calculated **`avg_samples_per_bin`** \n",
    "- all the stirring angle data for a particular bin that had number of data < **`avg_samples_per_bin`** were kept\n",
    "- The bins that had data more then **`avg_samples_per_bin`** were kept with a **`1-keep_probability`**\n",
    "- Somehow with this solution the model performed good but got confused at the bridge\n",
    "- So no data from data_3 folder or data_4 folder was thrown away because those folder had training data for bridge\n",
    "\n",
    "### Data Distribution of stirring angles before Flattening is shown below\n",
    "[image02]: ./writeup_images/Before_Flattening.PNG \"Before_Flattening\"\n",
    "![Before_Flattening][image02]\n",
    "\n",
    "### Data Distribution of stirring angles after Flattening is shown below\n",
    "[image03]: ./writeup_images/After_Flattening.PNG \"After_Flattening\"\n",
    "![After_Flattening][image03]\n"
   ]
  },
  {
   "cell_type": "code",
   "execution_count": null,
   "metadata": {
    "collapsed": true
   },
   "outputs": [],
   "source": []
  },
  {
   "cell_type": "code",
   "execution_count": 13,
   "metadata": {
    "collapsed": true
   },
   "outputs": [],
   "source": [
    "def flatten_distribution(samples, angles, image_paths):\n",
    "\tkeep_probs = []\n",
    "\tnum_bins = 23\n",
    "\tavg_samples_per_bin = len(angles) / num_bins\n",
    "\thist, bins = np.histogram(angles, num_bins)\n",
    "\twidth = 0.7 * (bins[1] - bins[0])\n",
    "\tcenter = (bins[:-1] + bins[1:]) / 2\n",
    "\ttarget = c * .5\n",
    "\tfor i in range(num_bins):\n",
    "\t\tif hist[i] < target:\n",
    "\t\t\tkeep_probs.append(1.)\n",
    "\t\telse:\n",
    "\t\t\tkeep_probs.append(1. / (hist[i] / target))\n",
    "\tremove_list = []\n",
    "\tfor i in range(len(angles)):\n",
    "\t\tfor j in range(num_bins):\n",
    "\t\t\tif angles[i] > bins[j] and angles[i] <= bins[j + 1] and samples[i] != \"data_4\" and samples[i] != \"data_3\":\n",
    "\t\t\t\t# delete from X and y with probability 1 - keep_probs[j]\n",
    "\t\t\t\tif np.random.rand() > keep_probs[j]:\n",
    "\t\t\t\t\tremove_list.append(i)\n",
    "\t\t\t\t\t\n",
    "\timage_paths = np.delete(image_paths, remove_list, axis=0)\n",
    "\tangles = np.delete(angles, remove_list)\n",
    "\n",
    "\t# print histogram again to show more even distribution of steering angles\n",
    "\thist, bins = np.histogram(angles, num_bins)\n",
    "\tplt.bar(center, hist, align='center', width=width)\n",
    "\tplt.plot((np.min(angles), np.max(angles)), (avg_samples_per_bin, avg_samples_per_bin), 'k-')\n",
    "\tplt.show()\n",
    "\t\n",
    "\timage_paths_train, image_paths_test, angles_train, angles_test = train_test_split(image_paths, angles, test_size=0.05,\n",
    "\t\t\t\t\t\t\t\t\t\t\t\t\t\t\t\t\t\t\t\t\t  random_state=42)\n",
    "\treturn image_paths_train, image_paths_test, angles_train, angles_test"
   ]
  },
  {
   "cell_type": "markdown",
   "metadata": {},
   "source": [
    "## GENERATORS\n",
    "\n",
    "- The images captured in the car simulator are much larger than the images encountered in the Traffic Sign Classifier Project, a size of 160 x 320 x 3 \n",
    "- 10,000 simulator images would take over 1.5 GB\n",
    "- That's a lot of memory\n",
    "- preprocessing data can change data types from an `int` to a `float`, which can increase the size of the data by a factor of 4.\n",
    "- Generators can be a great way to work with large amounts of data.\n",
    "- Instead of storing the preprocessed data in memory all at once, using a generator you can pull pieces of the data and process them on the fly only when you need them.\n",
    "- This is much more memory-efficient.\n",
    "- To return generator instead of using **`rerturn`** keyword we use **`yield`** keyword\n",
    "- **`yield`** keyword is at line 34 of below cell\n",
    "- Keras has inbuilt function **`fit_generator`**:\n",
    "   * fit_generator(self, generator, steps_per_epoch, epochs=1, verbose=1, callbacks=None, validation_data=None, validation_steps=None, class_weight=None, max_queue_size=10, workers=1, use_multiprocessing=False, shuffle=True, initial_epoch=0)\n",
    "   \n",
    "   \n",
    "- Arguments:\n",
    "   * generator: A generator or an instance of Sequence (keras.utils.Sequence) object in order to avoid duplicate data when using multiprocessing.\n",
    "   * steps_per_epoch: Total number of steps (batches of samples) to yield from generator before declaring one epoch finished and starting the next epoch\n",
    "   * epochs: Integer, total number of iterations on the data.\n",
    "   * verbose: Verbosity mode, 0, 1, or 2.\n",
    "   * callbacks: List of callbacks to be called during training.\n",
    "   * validation_data: This can be either a generator for the validation data or tuple (inputs, targets) or a tuple (inputs, targets, sample_weights)\n",
    "   * validation_steps: Only relevant if `validation_data` is a generator\n",
    "   * class_weight: Dictionary mapping class indices to a weight for the class.\n",
    "   * max_queue_size: Maximum size for the generator queue\n",
    "   * workers: Maximum number of processes to spin up when using process based t\n",
    "   * use_multiprocessing: If True, use process based threading\n",
    "   * shuffle: Whether to shuffle the order of the batches at the beginning of each epoch\n",
    "   * initial_epoch: Epoch at which to start training\n",
    "   \n",
    "   \n",
    "- Return :\n",
    "    * A History object."
   ]
  },
  {
   "cell_type": "code",
   "execution_count": 14,
   "metadata": {
    "collapsed": true
   },
   "outputs": [],
   "source": [
    "def prepare_generators(img_paths, angles, batch_size):\n",
    "\tnum_samples = len(img_paths)\n",
    "\twhile 1:  # Loop forever so the generator never terminates\n",
    "\t\t\n",
    "\t\tfor offset in range(0, num_samples, batch_size):\n",
    "\t\t\t\n",
    "\t\t\tbatch_angles = angles[offset:offset + batch_size]\n",
    "\t\t\tbatch_img_paths = img_paths[offset:offset + batch_size]\n",
    "\n",
    "\t\t\timages = []\n",
    "\t\t\tmeasurements = []\n",
    "\t\t\t\n",
    "\t\t\tfor x in range(0, len(batch_angles)):\n",
    "\t\t\t\timage = cv2.imread(batch_img_paths[x])\n",
    "\t\t\t\tif image is None:\n",
    "\t\t\t\t\t# print(None)\n",
    "\t\t\t\t\tcontinue\n",
    "\t\t\t\t# else:\n",
    "\t\t\t\t# \tprint(image.shape)\n",
    "\t\t\t\timg, angle = random_distort(pre_process_image(image), batch_angles[x])\n",
    "\t\t\t\t\n",
    "\t\t\t\timages.append(img)\n",
    "\t\t\t\tmeasurements.append(angle)\n",
    "\t\t\t\n",
    "\t\t\timages, measurements = perform_data_augmentation(images, measurements)\n",
    "\n",
    "\t\t\tyield shuffle(np.array(images), np.array(measurements))"
   ]
  },
  {
   "cell_type": "code",
   "execution_count": 15,
   "metadata": {
    "collapsed": true
   },
   "outputs": [],
   "source": [
    "def get_generators():\n",
    "\tfile_1 = \"data/driving_log.csv\"\n",
    "\tfile_2 = \"data_1/driving_log.csv\"\n",
    "\tfile_3 = \"data_2/driving_log.csv\"\n",
    "\tfile_4 = \"data_3/driving_log.csv\"\n",
    "\tfile_5 = \"data_4/driving_log.csv\"\n",
    "\n",
    "\tsamples, angles, image_paths = read_data([file_1, file_2, file_3, file_4, file_5])\n",
    "\t\n",
    "\tdata_visualization(angles)\n",
    "\timage_paths_train, image_paths_test, angles_train, angles_test = flatten_distribution(samples, angles, image_paths)\n",
    "\t\n",
    "\t# compile and train the model using the generator function\n",
    "\ttrain_generator = prepare_generators(image_paths_train, angles_train, batch_size=32)\n",
    "\tvalidation_generator = prepare_generators(image_paths_test, angles_test, batch_size=32)\n",
    "\t\n",
    "\treturn train_generator, validation_generator, len(image_paths_train), len(image_paths_test)"
   ]
  },
  {
   "cell_type": "code",
   "execution_count": 16,
   "metadata": {
    "collapsed": true
   },
   "outputs": [],
   "source": [
    "def prepare_data():\n",
    "\tsamples = read_data()\n",
    "\timages = []\n",
    "\tmeasurements = []\n",
    "\tfor sample in samples:\n",
    "\t\tfor i in range(3):\n",
    "\t\t\tsource_path = \"data/\"+sample[i]\n",
    "\t\t\timage = cv2.imread(source_path)\n",
    "\t\t\tif image is None:\n",
    "\t\t\t\tcontinue\n",
    "\t\t\timages.append(image)\n",
    "\t\t\tmeasurement = get_measurement(sample, i)\n",
    "\t\t\tmeasurements.append(measurement)\n",
    "\t\t\n",
    "\timages, measurements = perform_data_augmentation(images, measurements)\n",
    "\treturn images, measurements\n",
    "\n",
    "\n",
    "# X_train, y_train = prepare_data()\n",
    "# print(X_train.shape)\n",
    "# nvidia(X_train, y_train)"
   ]
  },
  {
   "cell_type": "code",
   "execution_count": 17,
   "metadata": {
    "collapsed": false
   },
   "outputs": [
    {
     "data": {
      "image/png": "[encoded data removed]",
      "text/plain": [
       "<matplotlib.figure.Figure at 0x7f0c55be8f28>"
      ]
     },
     "metadata": {},
     "output_type": "display_data"
    },
    {
     "data": {
      "image/png": "[encoded data removed]",
      "text/plain": [
       "<matplotlib.figure.Figure at 0x7f0c56ad9208>"
      ]
     },
     "metadata": {},
     "output_type": "display_data"
    },
    {
     "name": "stdout",
     "output_type": "stream",
     "text": [
      "Epoch 1/3\n",
      "39040/39097 [============================>.] - ETA: 0s - loss: 0.0885"
     ]
    },
    {
     "name": "stderr",
     "output_type": "stream",
     "text": [
      "/home/carnd/anaconda3/envs/carnd-term1/lib/python3.5/site-packages/keras/engine/training.py:1569: UserWarning: Epoch comprised more than `samples_per_epoch` samples, which might affect learning results. Set `samples_per_epoch` correctly to avoid this warning.\n",
      "  warnings.warn('Epoch comprised more than '\n"
     ]
    },
    {
     "name": "stdout",
     "output_type": "stream",
     "text": [
      "39104/39097 [==============================] - 231s - loss: 0.0885 - val_loss: 0.0506\n",
      "Epoch 2/3\n",
      "39154/39097 [==============================] - 235s - loss: 0.0519 - val_loss: 0.0441\n",
      "Epoch 3/3\n",
      "39104/39097 [==============================] - 232s - loss: 0.0485 - val_loss: 0.0423\n",
      "dict_keys(['val_loss', 'loss'])\n"
     ]
    },
    {
     "data": {
      "image/png": "[encoded data removed]",
      "text/plain": [
       "<matplotlib.figure.Figure at 0x7f0c53b77c88>"
      ]
     },
     "metadata": {},
     "output_type": "display_data"
    }
   ],
   "source": [
    "# nvidia_gen(train_gen, validation_gen, no_train_samples, no_of_validation_samples)\n",
    "INPUT_SHAPE = (160, 320, 3)\n",
    "train_gen, validation_gen, no_train_samples, no_of_validation_samples = get_generators()\n",
    "my_model(train_gen, validation_gen, no_train_samples, no_of_validation_samples)\n",
    "\n",
    "# 10,365 Files\n",
    "# 161 mb on disk"
   ]
  },
  {
   "cell_type": "code",
   "execution_count": null,
   "metadata": {
    "collapsed": true
   },
   "outputs": [],
   "source": []
  }
 ],
 "metadata": {
  "kernelspec": {
   "display_name": "Python [Root]",
   "language": "python",
   "name": "Python [Root]"
  },
  "language_info": {
   "codemirror_mode": {
    "name": "ipython",
    "version": 3
   },
   "file_extension": ".py",
   "mimetype": "text/x-python",
   "name": "python",
   "nbconvert_exporter": "python",
   "pygments_lexer": "ipython3",
   "version": "3.5.4"
  },
  "widgets": {
   "state": {},
   "version": "1.1.2"
  }
 },
 "nbformat": 4,
 "nbformat_minor": 2
}
